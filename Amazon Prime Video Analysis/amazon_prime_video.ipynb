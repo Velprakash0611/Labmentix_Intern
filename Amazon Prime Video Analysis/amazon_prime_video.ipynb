{
  "nbformat": 4,
  "nbformat_minor": 0,
  "metadata": {
    "colab": {
      "private_outputs": true,
      "provenance": [],
      "collapsed_sections": [
        "vncDsAP0Gaoa",
        "FJNUwmbgGyua",
        "w6K7xa23Elo4",
        "yQaldy8SH6Dl",
        "PH-0ReGfmX4f",
        "mDgbUHAGgjLW",
        "O_i_v8NEhb9l",
        "HhfV-JJviCcP",
        "Y3lxredqlCYt",
        "3RnN4peoiCZX",
        "x71ZqKXriCWQ",
        "7hBIi_osiCS2",
        "JlHwYmJAmNHm",
        "35m5QtbWiB9F",
        "PoPl-ycgm1ru",
        "H0kj-8xxnORC",
        "nA9Y7ga8ng1Z",
        "PBTbrJXOngz2",
        "u3PMJOP6ngxN",
        "dauF4eBmngu3",
        "bKJF3rekwFvQ",
        "MSa1f5Uengrz",
        "GF8Ens_Soomf",
        "0wOQAZs5pc--",
        "K5QZ13OEpz2H",
        "lQ7QKXXCp7Bj",
        "448CDAPjqfQr",
        "KSlN3yHqYklG",
        "t6dVpIINYklI",
        "ijmpgYnKYklI",
        "-JiQyfWJYklI",
        "EM7whBJCYoAo",
        "fge-S5ZAYoAp",
        "85gYPyotYoAp",
        "RoGjAbkUYoAp",
        "4Of9eVA-YrdM",
        "iky9q4vBYrdO",
        "F6T5p64dYrdO",
        "y-Ehk30pYrdP",
        "bamQiAODYuh1",
        "QHF8YVU7Yuh3",
        "GwzvFGzlYuh3",
        "qYpmQ266Yuh3",
        "OH-pJp9IphqM",
        "bbFf2-_FphqN",
        "_ouA3fa0phqN",
        "Seke61FWphqN",
        "PIIx-8_IphqN",
        "t27r6nlMphqO",
        "r2jJGEOYphqO",
        "b0JNsNcRphqO",
        "BZR9WyysphqO",
        "jj7wYXLtphqO",
        "eZrbJ2SmphqO",
        "rFu4xreNphqO",
        "YJ55k-q6phqO",
        "gCFgpxoyphqP",
        "OVtJsKN_phqQ",
        "lssrdh5qphqQ",
        "U2RJ9gkRphqQ",
        "1M8mcRywphqQ",
        "tgIPom80phqQ",
        "JMzcOPDDphqR",
        "x-EpHcCOp1ci",
        "X_VqEhTip1ck",
        "8zGJKyg5p1ck",
        "PVzmfK_Ep1ck",
        "n3dbpmDWp1ck",
        "ylSl6qgtp1ck",
        "ZWILFDl5p1ck",
        "M7G43BXep1ck",
        "Ag9LCva-p1cl",
        "E6MkPsBcp1cl",
        "2cELzS2fp1cl",
        "3MPXvC8up1cl",
        "NC_X3p0fY2L0",
        "UV0SzAkaZNRQ",
        "YPEH6qLeZNRQ",
        "q29F0dvdveiT",
        "EXh0U9oCveiU",
        "22aHeOlLveiV",
        "JcMwzZxoAimU",
        "8G2x9gOozGDZ",
        "gCX9965dhzqZ",
        "gIfDvo9L0UH2"
      ]
    },
    "kernelspec": {
      "name": "python3",
      "display_name": "Python 3"
    },
    "language_info": {
      "name": "python"
    }
  },
  "cells": [
    {
      "cell_type": "markdown",
      "source": [
        "# **Project Name**    -  Amazon Prime EDA\n",
        "\n"
      ],
      "metadata": {
        "id": "vncDsAP0Gaoa"
      }
    },
    {
      "cell_type": "markdown",
      "source": [
        "##### **Project Type**    - EDA\n",
        "##### **Contribution**    - Individual\n",
        "##### **Name-**    Velprakash.S"
      ],
      "metadata": {
        "id": "beRrZCGUAJYm"
      }
    },
    {
      "cell_type": "markdown",
      "source": [
        "# **Project Summary -**"
      ],
      "metadata": {
        "id": "FJNUwmbgGyua"
      }
    },
    {
      "cell_type": "markdown",
      "source": [
        "Amazon Prime Video is one of the leading streaming platforms, offering a vast and diverse library of movies, TV shows, and exclusive original content. As the streaming industry continues to expand, competition among platforms has intensified, making it essential to understand content trends, audience preferences, and regional availability. With millions of subscribers worldwide, Amazon Prime Video caters to a global audience with varied tastes, making data-driven insights crucial for both consumers and businesses in the entertainment sector.\n",
        "\n",
        "This project aims to analyze Amazon Prime Video’s content library using a structured dataset containing information such as title, genre, release year, IMDb ratings, and regional availability. By examining these attributes, we can uncover valuable trends related to content diversity, geographical distribution, and audience engagement.\n",
        "\n",
        "One key aspect of this analysis is understanding genre preferences. Different regions and audiences have unique tastes in content, and identifying popular genres can help content creators, distributors, and streaming services refine their strategies. Additionally, tracking release patterns and IMDb ratings can provide insight into the types of content that perform well and resonate with audiences.\n",
        "\n",
        "Furthermore, regional availability plays a crucial role in content consumption, as licensing agreements and distribution rights vary across different markets. By analyzing which regions have access to the most extensive content libraries, we can gain insights into Amazon Prime Video’s content acquisition strategies and potential opportunities for market expansion.\n",
        "\n",
        "\n",
        "\n"
      ],
      "metadata": {
        "id": "F6v_1wHtG2nS"
      }
    },
    {
      "cell_type": "markdown",
      "source": [
        "# **GitHub Link -**"
      ],
      "metadata": {
        "id": "w6K7xa23Elo4"
      }
    },
    {
      "cell_type": "markdown",
      "source": [
        "Provide your GitHub Link here."
      ],
      "metadata": {
        "id": "h1o69JH3Eqqn"
      }
    },
    {
      "cell_type": "markdown",
      "source": [
        "# **Problem Statement**\n"
      ],
      "metadata": {
        "id": "yQaldy8SH6Dl"
      }
    },
    {
      "cell_type": "markdown",
      "source": [
        "The dataset was created to analyze all shows available on Amazon Prime Video, allowing us to extract valuable insights such as:\n",
        "1. Content Diversity: What genres and categories dominate the platform?\n",
        "2. Regional Availability: How does content distribution vary across different regions?\n",
        "3. Trends Over Time: How has Amazon Prime's content library evolved?\n",
        "4. IMDb Ratings & Popularity : What are teh highest-rated or most popular shows on the platform?\n",
        "\n",
        "By analyzing this dataset, businesses, content creators and data analysts can uncover key trends that influence subscription growht, user engaement, and content investment strategies in the streaming industry.\n"
      ],
      "metadata": {
        "id": "DpeJGUA3kjGy"
      }
    },
    {
      "cell_type": "markdown",
      "source": [
        "#### **Define Your Business Objective?**"
      ],
      "metadata": {
        "id": "PH-0ReGfmX4f"
      }
    },
    {
      "cell_type": "markdown",
      "source": [
        "\n",
        "The primary objectives of this project are:\n",
        "\n",
        "1. **Content Diversity** – Identifying the most common genres and categories on Amazon Prime Video to understand content preferences.\n",
        "2. **Regional Availability** – Examining how content is distributed across different regions to determine market-specific strategies.\n",
        "3. **Trends Over Time** – Analyzing the evolution of the content library, such as the number of shows added per year and shifts in genre popularity.\n",
        "4. **IMDb Ratings & Popularity** – Identifying the highest-rated and most popular content on the platform to understand audience preferences."
      ],
      "metadata": {
        "id": "PhDvGCAqmjP1"
      }
    },
    {
      "cell_type": "markdown",
      "source": [
        "# **General Guidelines** : -  "
      ],
      "metadata": {
        "id": "mDgbUHAGgjLW"
      }
    },
    {
      "cell_type": "markdown",
      "source": [
        "1.   Well-structured, formatted, and commented code is required.\n",
        "2.   Exception Handling, Production Grade Code & Deployment Ready Code will be a plus. Those students will be awarded some additional credits.\n",
        "     \n",
        "     The additional credits will have advantages over other students during Star Student selection.\n",
        "       \n",
        "             [ Note: - Deployment Ready Code is defined as, the whole .ipynb notebook should be executable in one go\n",
        "                       without a single error logged. ]\n",
        "\n",
        "3.   Each and every logic should have proper comments.\n",
        "4. You may add as many number of charts you want. Make Sure for each and every chart the following format should be answered.\n",
        "        \n",
        "\n",
        "```\n",
        "# Chart visualization code\n",
        "```\n",
        "            \n",
        "\n",
        "*   Why did you pick the specific chart?\n",
        "*   What is/are the insight(s) found from the chart?\n",
        "* Will the gained insights help creating a positive business impact?\n",
        "Are there any insights that lead to negative growth? Justify with specific reason.\n",
        "\n",
        "5. You have to create at least 20 logical & meaningful charts having important insights.\n",
        "\n",
        "\n",
        "[ Hints : - Do the Vizualization in  a structured way while following \"UBM\" Rule.\n",
        "\n",
        "U - Univariate Analysis,\n",
        "\n",
        "B - Bivariate Analysis (Numerical - Categorical, Numerical - Numerical, Categorical - Categorical)\n",
        "\n",
        "M - Multivariate Analysis\n",
        " ]\n",
        "\n",
        "\n",
        "\n"
      ],
      "metadata": {
        "id": "ZrxVaUj-hHfC"
      }
    },
    {
      "cell_type": "markdown",
      "source": [
        "# ***Let's Begin !***"
      ],
      "metadata": {
        "id": "O_i_v8NEhb9l"
      }
    },
    {
      "cell_type": "markdown",
      "source": [
        "## ***1. Know Your Data***"
      ],
      "metadata": {
        "id": "HhfV-JJviCcP"
      }
    },
    {
      "cell_type": "markdown",
      "source": [
        "### Import Libraries"
      ],
      "metadata": {
        "id": "Y3lxredqlCYt"
      }
    },
    {
      "cell_type": "code",
      "source": [
        "# Import Libraries\n",
        "import pandas as pd\n",
        "import numpy as np\n",
        "import matplotlib.pyplot as plt\n",
        "import seaborn as sns"
      ],
      "metadata": {
        "id": "M8Vqi-pPk-HR"
      },
      "execution_count": null,
      "outputs": []
    },
    {
      "cell_type": "markdown",
      "source": [
        "### Dataset Loading"
      ],
      "metadata": {
        "id": "3RnN4peoiCZX"
      }
    },
    {
      "cell_type": "code",
      "source": [
        "# Load Dataset\n",
        "titles= pd.read_csv('titles.csv')\n",
        "credits= pd.read_csv('credits.csv')"
      ],
      "metadata": {
        "id": "4CkvbW_SlZ_R"
      },
      "execution_count": null,
      "outputs": []
    },
    {
      "cell_type": "markdown",
      "source": [
        "### Dataset First View"
      ],
      "metadata": {
        "id": "x71ZqKXriCWQ"
      }
    },
    {
      "cell_type": "code",
      "source": [
        "# Dataset First Look\n",
        "titles.head()"
      ],
      "metadata": {
        "id": "LWNFOSvLl09H"
      },
      "execution_count": null,
      "outputs": []
    },
    {
      "cell_type": "code",
      "source": [
        "credits.head()"
      ],
      "metadata": {
        "id": "JY2TV7oUffvO"
      },
      "execution_count": null,
      "outputs": []
    },
    {
      "cell_type": "markdown",
      "source": [
        "### Dataset Rows & Columns count"
      ],
      "metadata": {
        "id": "7hBIi_osiCS2"
      }
    },
    {
      "cell_type": "code",
      "source": [
        "# Dataset Rows & Columns count\n",
        "print(\"Credits file :\",credits.shape)\n",
        "print(\"Titles file :\",titles.shape)"
      ],
      "metadata": {
        "id": "Kllu7SJgmLij"
      },
      "execution_count": null,
      "outputs": []
    },
    {
      "cell_type": "markdown",
      "source": [
        "### Dataset Information"
      ],
      "metadata": {
        "id": "JlHwYmJAmNHm"
      }
    },
    {
      "cell_type": "code",
      "source": [
        "# Dataset Info\n",
        "credits.info()"
      ],
      "metadata": {
        "id": "e9hRXRi6meOf"
      },
      "execution_count": null,
      "outputs": []
    },
    {
      "cell_type": "code",
      "source": [
        "titles.info()"
      ],
      "metadata": {
        "id": "CiDqmMbFg63u"
      },
      "execution_count": null,
      "outputs": []
    },
    {
      "cell_type": "markdown",
      "source": [
        "#### Duplicate Values"
      ],
      "metadata": {
        "id": "35m5QtbWiB9F"
      }
    },
    {
      "cell_type": "code",
      "source": [
        "# Dataset Duplicate Value Count for credits\n",
        "credits.duplicated().sum()"
      ],
      "metadata": {
        "id": "1sLdpKYkmox0"
      },
      "execution_count": null,
      "outputs": []
    },
    {
      "cell_type": "code",
      "source": [
        "# Dataset Duplicate Value Count for titles\n",
        "titles.duplicated().sum()"
      ],
      "metadata": {
        "id": "yrPVKIZjiHWL"
      },
      "execution_count": null,
      "outputs": []
    },
    {
      "cell_type": "markdown",
      "source": [
        "#### Missing Values/Null Values"
      ],
      "metadata": {
        "id": "PoPl-ycgm1ru"
      }
    },
    {
      "cell_type": "code",
      "source": [
        "# Missing Values/Null Values Count\n",
        "credits.isnull().sum()"
      ],
      "metadata": {
        "id": "GgHWkxvamxVg"
      },
      "execution_count": null,
      "outputs": []
    },
    {
      "cell_type": "code",
      "source": [
        "titles.isnull().sum()"
      ],
      "metadata": {
        "id": "kJq5T8-DitmO"
      },
      "execution_count": null,
      "outputs": []
    },
    {
      "cell_type": "code",
      "source": [
        "# Visualizing the missing values\n",
        "# Plot missing values matrix for credits dataset\n",
        "plt.figure(figsize=(12,6))\n",
        "sns.heatmap(credits.isnull(), cmap=\"viridis\", cbar=False, yticklabels=False)\n",
        "plt.title(\"Missing Values Heatmap - Credits Dataset\")\n",
        "plt.show()"
      ],
      "metadata": {
        "id": "3q5wnI3om9sJ"
      },
      "execution_count": null,
      "outputs": []
    },
    {
      "cell_type": "code",
      "source": [
        "# Plot missing values matrix for titles dataset\n",
        "plt.figure(figsize=(12,6))\n",
        "sns.heatmap(titles.isnull(), cmap=\"magma\", cbar=False, yticklabels=False)\n",
        "plt.title(\"Missing Values Heatmap - Titles Dataset\")\n",
        "plt.show()"
      ],
      "metadata": {
        "id": "ALvdQb4nkr4E"
      },
      "execution_count": null,
      "outputs": []
    },
    {
      "cell_type": "markdown",
      "source": [
        "### What did you know about your dataset?"
      ],
      "metadata": {
        "id": "H0kj-8xxnORC"
      }
    },
    {
      "cell_type": "markdown",
      "source": [
        "After analyzing the dataset, here are the key observations:\n",
        "\n",
        "# 1. Dataset Overview\n",
        "The dataset consists of two main files:\n",
        "**credits.csv** → Contains information about people involved in shows (actors, directors, etc.).\n",
        "**titles.csv** → Contains details about movies and TV shows available on Amazon Prime Video.\n",
        "# 2. Missing Values Analysis\n",
        "The credits dataset has missing values in the character column (about 13% missing).\n",
        "The titles dataset has missing values in multiple columns, including:\n",
        "description (1.2% missing)\n",
        "age_certification (65% missing)\n",
        "seasons (86% missing)\n",
        "imdb_score and imdb_votes (10% missing)\n",
        "# 3. Duplicate Values\n",
        "Some duplicate rows were found in both datasets, which were removed to ensure data integrity.\n",
        "# 4. Column Insights\n",
        "The titles.csv dataset includes genre, release year, IMDb ratings, and regional availability, which are useful for content trend analysis.\n",
        "The credits.csv dataset contains cast and crew details, allowing analysis of popular actors and directors.\n",
        "# 5. Potential Insights from Analysis\n",
        "Content Diversity → Identifying the most popular genres.\n",
        "\n",
        "Regional Availability → Understanding how content varies across different countries.\n",
        "\n",
        "Trends Over Time → Tracking changes in content library growth.\n",
        "\n",
        "IMDb Ratings & Popularity → Finding top-rated and most-watched content."
      ],
      "metadata": {
        "id": "gfoNAAC-nUe_"
      }
    },
    {
      "cell_type": "markdown",
      "source": [
        "## ***2. Understanding Your Variables***"
      ],
      "metadata": {
        "id": "nA9Y7ga8ng1Z"
      }
    },
    {
      "cell_type": "code",
      "source": [
        "# Dataset Columns\n",
        "credits.columns"
      ],
      "metadata": {
        "id": "j7xfkqrt5Ag5"
      },
      "execution_count": null,
      "outputs": []
    },
    {
      "cell_type": "code",
      "source": [
        "titles.columns"
      ],
      "metadata": {
        "id": "I3CHEi4IleVn"
      },
      "execution_count": null,
      "outputs": []
    },
    {
      "cell_type": "code",
      "source": [
        "# Dataset Describe\n",
        "credits.describe"
      ],
      "metadata": {
        "id": "DnOaZdaE5Q5t"
      },
      "execution_count": null,
      "outputs": []
    },
    {
      "cell_type": "code",
      "source": [
        "titles.describe"
      ],
      "metadata": {
        "id": "Pdoi6SWblpuH"
      },
      "execution_count": null,
      "outputs": []
    },
    {
      "cell_type": "markdown",
      "source": [
        "### Variables Description"
      ],
      "metadata": {
        "id": "PBTbrJXOngz2"
      }
    },
    {
      "cell_type": "markdown",
      "source": [
        "#1. credits.csv (Cast & Crew Information)\n",
        "This dataset provides details about the people (actors, directors, and crew members) involved in various shows and movies.\n",
        "\n",
        "person_id (int64): A unique identifier for each person.\n",
        "\n",
        "id (object): The unique identifier of the movie or TV show the person is associated with.\n",
        "\n",
        "name (object): The name of the person (actor, director, writer, etc.).\n",
        "\n",
        "character (object): The name of the character played by the person (only for actors). This can be NULL for non-acting roles.\n",
        "\n",
        "role (object): The role of the person in the production (e.g., \"actor\", \"director\", \"writer\").\n",
        "\n",
        "\n",
        "#2. titles.csv (Movie & TV Show Information)\n",
        "This dataset contains information about the content available on Amazon Prime Video, including metadata such as genres, ratings, and popularity.\n",
        "\n",
        "id (object): A unique identifier for each movie or TV show. It links to the credits.csv dataset.\n",
        "\n",
        "title (object): The name of the movie or TV show.\n",
        "\n",
        "type (object): The type of content, which can be either \"movie\" or \"show\".\n",
        "\n",
        "description (object): A brief summary of the movie or TV show. Some entries may have missing values.\n",
        "\n",
        "release_year (int64): The year in which the movie or TV show was released.\n",
        "\n",
        "age_certification (object): The age rating of the movie/show (e.g., PG, R, 18+). Many values are missing.\n",
        "\n",
        "runtime (int64): The duration of the movie in minutes. For TV shows, this may represent the average episode length.\n",
        "\n",
        "genres (object): The genres associated with the movie/show, such as \"Drama\", \"Action\", or \"Comedy\".\n",
        "\n",
        "production_countries (object): The country or countries where the movie/show was produced.\n",
        "\n",
        "seasons (float64): The number of seasons for TV shows. This column is mostly NULL for movies.\n",
        "\n",
        "imdb_id (object): The unique IMDb identifier for the movie/show.\n",
        "\n",
        "imdb_score (float64): The IMDb rating of the movie/show (on a scale from 1 to 10). Some values are missing.\n",
        "\n",
        "imdb_votes (float64): The number of user votes on IMDb. Some values are missing.\n",
        "\n",
        "tmdb_popularity (float64): The popularity score from TMDb (The Movie Database).\n",
        "\n",
        "tmdb_score (float64): The TMDb rating of the movie/show. Many values are missing.\n",
        "\n"
      ],
      "metadata": {
        "id": "aJV4KIxSnxay"
      }
    },
    {
      "cell_type": "markdown",
      "source": [
        "### Check Unique Values for each variable."
      ],
      "metadata": {
        "id": "u3PMJOP6ngxN"
      }
    },
    {
      "cell_type": "code",
      "source": [
        "# Check Unique Values for credits table.\n",
        "for column in credits.columns:\n",
        "    print(f\"Unique values in {column}: {credits[column].nunique()}\")"
      ],
      "metadata": {
        "id": "zms12Yq5n-jE"
      },
      "execution_count": null,
      "outputs": []
    },
    {
      "cell_type": "code",
      "source": [
        "# Check Unique Values for titles table.\n",
        "for column in titles.columns:\n",
        "    print(f\"Unique values in {column}: {titles[column].nunique()}\")"
      ],
      "metadata": {
        "id": "NoScLkaGnrC0"
      },
      "execution_count": null,
      "outputs": []
    },
    {
      "cell_type": "markdown",
      "source": [
        "## 3. ***Data Wrangling***"
      ],
      "metadata": {
        "id": "dauF4eBmngu3"
      }
    },
    {
      "cell_type": "markdown",
      "source": [
        "### Data Wrangling Code"
      ],
      "metadata": {
        "id": "bKJF3rekwFvQ"
      }
    },
    {
      "cell_type": "code",
      "source": [
        "# Handling missing or null values\n",
        "\n",
        "credits_df=credits.dropna()\n",
        "titles_df=titles.dropna()\n"
      ],
      "metadata": {
        "id": "wk-9a2fpoLcV"
      },
      "execution_count": null,
      "outputs": []
    },
    {
      "cell_type": "code",
      "source": [
        "credits_df.isnull().sum()"
      ],
      "metadata": {
        "id": "lAX9D7I6ordl"
      },
      "execution_count": null,
      "outputs": []
    },
    {
      "cell_type": "code",
      "source": [
        "titles_df.isnull().sum()"
      ],
      "metadata": {
        "id": "Ht5A8ZTto0RK"
      },
      "execution_count": null,
      "outputs": []
    },
    {
      "cell_type": "code",
      "source": [
        "# handling duplicate value\n",
        "credits=credits_df.drop_duplicates()\n",
        "titles=titles_df.drop_duplicates()\n"
      ],
      "metadata": {
        "id": "vJ5TO4d0o4h2"
      },
      "execution_count": null,
      "outputs": []
    },
    {
      "cell_type": "code",
      "source": [
        "print(credits.duplicated().sum())\n",
        "print(titles.duplicated().sum())"
      ],
      "metadata": {
        "id": "VPLHtGWypRF5"
      },
      "execution_count": null,
      "outputs": []
    },
    {
      "cell_type": "code",
      "source": [
        "# merging the dataset\n",
        "\n",
        "merged= titles.merge(credits, on=\"id\", how=\"left\")\n",
        "\n",
        "merged.sample(5)\n"
      ],
      "metadata": {
        "id": "P6GHGws1pilH"
      },
      "execution_count": null,
      "outputs": []
    },
    {
      "cell_type": "code",
      "source": [
        "#drop unnecessary columns\n",
        "\n",
        "merged.drop(columns=['person_id', 'description','name','character','role'],inplace=True)\n",
        "\n",
        "merged.columns"
      ],
      "metadata": {
        "id": "dUV7AskOquGB"
      },
      "execution_count": null,
      "outputs": []
    },
    {
      "cell_type": "code",
      "source": [
        "merged.info()"
      ],
      "metadata": {
        "id": "-r_hKs7tsyad"
      },
      "execution_count": null,
      "outputs": []
    },
    {
      "cell_type": "code",
      "source": [
        "#convert into lowercase to avoid inconsistencies\n",
        "\n",
        "merged['title']=merged['title'].str.strip().str.lower()\n",
        "merged['genres'] = merged['genres'].str.strip().str.lower()\n",
        "merged['production_countries'] = merged['production_countries'].str.strip().str.lower()\n",
        "\n"
      ],
      "metadata": {
        "id": "1qKNPdtPtxrc"
      },
      "execution_count": null,
      "outputs": []
    },
    {
      "cell_type": "markdown",
      "source": [
        "### What all manipulations have you done and insights you found?"
      ],
      "metadata": {
        "id": "MSa1f5Uengrz"
      }
    },
    {
      "cell_type": "markdown",
      "source": [
        "Answer Here."
      ],
      "metadata": {
        "id": "LbyXE7I1olp8"
      }
    },
    {
      "cell_type": "markdown",
      "source": [
        "## ***4. Data Vizualization, Storytelling & Experimenting with charts : Understand the relationships between variables***"
      ],
      "metadata": {
        "id": "GF8Ens_Soomf"
      }
    },
    {
      "cell_type": "markdown",
      "source": [
        "# 1. Genre Distribution (content diversity)"
      ],
      "metadata": {
        "id": "0wOQAZs5pc--"
      }
    },
    {
      "cell_type": "code",
      "source": [
        "\n",
        "# Count occurrences of each genre\n",
        "genre_counts = merged['genres'].str.split(',').explode().value_counts().head(10)\n",
        "\n",
        "plt.figure(figsize=(10, 6))\n",
        "sns.barplot(x=genre_counts.values, y=genre_counts.index, palette=\"viridis\")\n",
        "plt.xlabel(\"Number of Titles\")\n",
        "plt.ylabel(\"Genres\")\n",
        "plt.title(\"Top 10 Most Common Genres on Amazon Prime\")\n",
        "plt.show()\n",
        "\n"
      ],
      "metadata": {
        "id": "7v_ESjsspbW7"
      },
      "execution_count": null,
      "outputs": []
    },
    {
      "cell_type": "markdown",
      "source": [
        "##### 1. Why did you pick the specific chart?"
      ],
      "metadata": {
        "id": "K5QZ13OEpz2H"
      }
    },
    {
      "cell_type": "markdown",
      "source": [
        "A bar chart clearly compares categorical counts. It is ideal for displaying the frequency of different genres, making it easy to see which genres dominate."
      ],
      "metadata": {
        "id": "XESiWehPqBRc"
      }
    },
    {
      "cell_type": "markdown",
      "source": [
        "##### 2. What is/are the insight(s) found from the chart?"
      ],
      "metadata": {
        "id": "lQ7QKXXCp7Bj"
      }
    },
    {
      "cell_type": "markdown",
      "source": [
        "The chart reveals which genres appear most frequently. For example, it might show that “drama,” “comedy,” or “action” are among the top genres."
      ],
      "metadata": {
        "id": "C_j1G7yiqdRP"
      }
    },
    {
      "cell_type": "markdown",
      "source": [
        "##### 3. Will the gained insights help creating a positive business impact?\n",
        "Are there any insights that lead to negative growth? Justify with specific reason."
      ],
      "metadata": {
        "id": "448CDAPjqfQr"
      }
    },
    {
      "cell_type": "markdown",
      "source": [
        "Yes. By knowing which genres are most popular, content creators and platform strategists can focus on investing in or promoting these genres to drive subscriptions and viewer engagement."
      ],
      "metadata": {
        "id": "3cspy4FjqxJW"
      }
    },
    {
      "cell_type": "markdown",
      "source": [
        "# 2. Content Release Trend Over Years – Line Chart"
      ],
      "metadata": {
        "id": "KSlN3yHqYklG"
      }
    },
    {
      "cell_type": "code",
      "source": [
        "# Count titles per release year and sort by year\n",
        "yearly_trend = merged['release_year'].value_counts().sort_index()\n",
        "\n",
        "plt.figure(figsize=(12, 6))\n",
        "sns.lineplot(x=yearly_trend.index, y=yearly_trend.values, marker=\"o\", linewidth=2)\n",
        "plt.xlabel(\"Year\")\n",
        "plt.ylabel(\"Number of Titles\")\n",
        "plt.title(\"Trend of Content Releases Over the Years\")\n",
        "plt.show()\n",
        "\n"
      ],
      "metadata": {
        "id": "R4YgtaqtYklH"
      },
      "execution_count": null,
      "outputs": []
    },
    {
      "cell_type": "markdown",
      "source": [
        "##### 1. Why did you pick the specific chart?"
      ],
      "metadata": {
        "id": "t6dVpIINYklI"
      }
    },
    {
      "cell_type": "markdown",
      "source": [
        "A line chart is ideal for showing trends over time, making it easy to see growth, stability, or decline in content additions."
      ],
      "metadata": {
        "id": "5aaW0BYyYklI"
      }
    },
    {
      "cell_type": "markdown",
      "source": [
        "##### 2. What is/are the insight(s) found from the chart?"
      ],
      "metadata": {
        "id": "ijmpgYnKYklI"
      }
    },
    {
      "cell_type": "markdown",
      "source": [
        "The chart illustrates the evolution of the content library over the years. It may reveal periods of rapid growth, stagnation, or decline in content release."
      ],
      "metadata": {
        "id": "PSx9atu2YklI"
      }
    },
    {
      "cell_type": "markdown",
      "source": [
        "##### 3. Will the gained insights help creating a positive business impact?\n",
        "Are there any insights that lead to negative growth? Justify with specific reason."
      ],
      "metadata": {
        "id": "-JiQyfWJYklI"
      }
    },
    {
      "cell_type": "markdown",
      "source": [
        "Yes. Understanding release trends assists in planning future content investments and marketing strategies by identifying successful periods and adjusting production schedules accordingly."
      ],
      "metadata": {
        "id": "BcBbebzrYklV"
      }
    },
    {
      "cell_type": "markdown",
      "source": [
        "# 3. Regional Availability – Pie Chart"
      ],
      "metadata": {
        "id": "EM7whBJCYoAo"
      }
    },
    {
      "cell_type": "code",
      "source": [
        "# Count the top 5 production countries\n",
        "country_counts = merged['production_countries'].str.split(',').explode().str.strip().value_counts().head(5)\n",
        "\n",
        "plt.figure(figsize=(8, 8))\n",
        "plt.pie(country_counts, labels=country_counts.index, autopct='%1.1f%%', colors=sns.color_palette(\"pastel\"))\n",
        "plt.title(\"Top 5 Production Countries\")\n",
        "plt.show()\n"
      ],
      "metadata": {
        "id": "t6GMdE67YoAp"
      },
      "execution_count": null,
      "outputs": []
    },
    {
      "cell_type": "markdown",
      "source": [
        "##### 1. Why did you pick the specific chart?"
      ],
      "metadata": {
        "id": "fge-S5ZAYoAp"
      }
    },
    {
      "cell_type": "markdown",
      "source": [
        "A pie chart effectively shows parts of a whole, making it easy to visualize the percentage share of content produced in different regions."
      ],
      "metadata": {
        "id": "5dBItgRVYoAp"
      }
    },
    {
      "cell_type": "markdown",
      "source": [
        "##### 2. What is/are the insight(s) found from the chart?"
      ],
      "metadata": {
        "id": "85gYPyotYoAp"
      }
    },
    {
      "cell_type": "markdown",
      "source": [
        "The chart highlights which production countries contribute the most content to the platform. For example, it may indicate that a few countries dominate production."
      ],
      "metadata": {
        "id": "4jstXR6OYoAp"
      }
    },
    {
      "cell_type": "markdown",
      "source": [
        "##### 3. Will the gained insights help creating a positive business impact?\n",
        "Are there any insights that lead to negative growth? Justify with specific reason."
      ],
      "metadata": {
        "id": "RoGjAbkUYoAp"
      }
    },
    {
      "cell_type": "markdown",
      "source": [
        "Yes. These insights guide regional marketing strategies and help in tailoring content licensing or production decisions to focus on strong markets."
      ],
      "metadata": {
        "id": "zfJ8IqMcYoAp"
      }
    },
    {
      "cell_type": "markdown",
      "source": [
        "# 4. IMDb Score Distribution – Histogram"
      ],
      "metadata": {
        "id": "4Of9eVA-YrdM"
      }
    },
    {
      "cell_type": "code",
      "source": [
        "plt.figure(figsize=(10, 5))\n",
        "sns.histplot(merged['imdb_score'].dropna(), bins=20, kde=True, color=\"blue\")\n",
        "plt.xlabel(\"IMDb Score\")\n",
        "plt.ylabel(\"Frequency\")\n",
        "plt.title(\"Distribution of IMDb Ratings\")\n",
        "plt.show()\n"
      ],
      "metadata": {
        "id": "irlUoxc8YrdO"
      },
      "execution_count": null,
      "outputs": []
    },
    {
      "cell_type": "markdown",
      "source": [
        "##### 1. Why did you pick the specific chart?"
      ],
      "metadata": {
        "id": "iky9q4vBYrdO"
      }
    },
    {
      "cell_type": "markdown",
      "source": [
        "Histograms are excellent for showing the distribution of continuous data. Here, it displays how IMDb ratings are spread across the content."
      ],
      "metadata": {
        "id": "aJRCwT6DYrdO"
      }
    },
    {
      "cell_type": "markdown",
      "source": [
        "##### 2. What is/are the insight(s) found from the chart?"
      ],
      "metadata": {
        "id": "F6T5p64dYrdO"
      }
    },
    {
      "cell_type": "markdown",
      "source": [
        "The chart reveals the overall rating distribution—whether it is skewed, has multiple peaks, or is normally distributed. It helps in understanding how many titles fall into high or low rating categories."
      ],
      "metadata": {
        "id": "Xx8WAJvtYrdO"
      }
    },
    {
      "cell_type": "markdown",
      "source": [
        "##### 3. Will the gained insights help creating a positive business impact?\n",
        "Are there any insights that lead to negative growth? Justify with specific reason."
      ],
      "metadata": {
        "id": "y-Ehk30pYrdP"
      }
    },
    {
      "cell_type": "markdown",
      "source": [
        "Yes. Insights into rating distributions help assess overall content quality and may guide quality improvement initiatives, content curation, and marketing strategies."
      ],
      "metadata": {
        "id": "jLNxxz7MYrdP"
      }
    },
    {
      "cell_type": "markdown",
      "source": [
        "# 5. IMDb Score vs. Popularity – Scatter Plot"
      ],
      "metadata": {
        "id": "bamQiAODYuh1"
      }
    },
    {
      "cell_type": "code",
      "source": [
        "plt.figure(figsize=(10, 6))\n",
        "sns.scatterplot(data=merged, x=\"imdb_score\", y=\"tmdb_popularity\", alpha=0.5)\n",
        "plt.xlabel(\"IMDb Score\")\n",
        "plt.ylabel(\"TMDb Popularity\")\n",
        "plt.title(\"Relationship Between IMDb Score and Popularity\")\n",
        "plt.show()\n"
      ],
      "metadata": {
        "id": "TIJwrbroYuh3"
      },
      "execution_count": null,
      "outputs": []
    },
    {
      "cell_type": "markdown",
      "source": [
        "##### 1. Why did you pick the specific chart?"
      ],
      "metadata": {
        "id": "QHF8YVU7Yuh3"
      }
    },
    {
      "cell_type": "markdown",
      "source": [
        "Scatter plots are ideal for visualizing relationships between two continuous variables. They help to determine if there’s any correlation between ratings and popularity."
      ],
      "metadata": {
        "id": "dcxuIMRPYuh3"
      }
    },
    {
      "cell_type": "markdown",
      "source": [
        "##### 2. What is/are the insight(s) found from the chart?"
      ],
      "metadata": {
        "id": "GwzvFGzlYuh3"
      }
    },
    {
      "cell_type": "markdown",
      "source": [
        "The chart may show a positive correlation (or lack thereof) between IMDb scores and popularity. It helps identify outliers and trends, such as whether higher-rated titles tend to be more popular."
      ],
      "metadata": {
        "id": "uyqkiB8YYuh3"
      }
    },
    {
      "cell_type": "markdown",
      "source": [
        "##### 3. Will the gained insights help creating a positive business impact?\n",
        "Are there any insights that lead to negative growth? Justify with specific reason."
      ],
      "metadata": {
        "id": "qYpmQ266Yuh3"
      }
    },
    {
      "cell_type": "markdown",
      "source": [
        "Yes. Recognizing the relationship between ratings and popularity aids in identifying which content is performing exceptionally well, thus guiding investment and promotional efforts."
      ],
      "metadata": {
        "id": "_WtzZ_hCYuh4"
      }
    },
    {
      "cell_type": "markdown",
      "source": [
        "# 6. Runtime Distribution – Histogram"
      ],
      "metadata": {
        "id": "OH-pJp9IphqM"
      }
    },
    {
      "cell_type": "code",
      "source": [
        "plt.figure(figsize=(10, 5))\n",
        "sns.histplot(merged['runtime'].dropna(), bins=30, kde=True, color=\"purple\")\n",
        "plt.xlabel(\"Runtime (minutes)\")\n",
        "plt.ylabel(\"Frequency\")\n",
        "plt.title(\"Distribution of Content Runtime\")\n",
        "plt.show()\n"
      ],
      "metadata": {
        "id": "kuRf4wtuphqN"
      },
      "execution_count": null,
      "outputs": []
    },
    {
      "cell_type": "markdown",
      "source": [
        "##### 1. Why did you pick the specific chart?"
      ],
      "metadata": {
        "id": "bbFf2-_FphqN"
      }
    },
    {
      "cell_type": "markdown",
      "source": [
        "A histogram is ideal for showing the distribution of numerical values, in this case, runtime. It helps to visualize common length patterns.\n"
      ],
      "metadata": {
        "id": "loh7H2nzphqN"
      }
    },
    {
      "cell_type": "markdown",
      "source": [
        "##### 2. What is/are the insight(s) found from the chart?"
      ],
      "metadata": {
        "id": "_ouA3fa0phqN"
      }
    },
    {
      "cell_type": "markdown",
      "source": [
        "The chart may reveal that most movies are around 90–120 minutes, while TV episodes are much shorter. It might also highlight extreme values, such as very short films or extremely long movies."
      ],
      "metadata": {
        "id": "VECbqPI7phqN"
      }
    },
    {
      "cell_type": "markdown",
      "source": [
        "##### 3. Will the gained insights help creating a positive business impact?\n",
        "Are there any insights that lead to negative growth? Justify with specific reason."
      ],
      "metadata": {
        "id": "Seke61FWphqN"
      }
    },
    {
      "cell_type": "markdown",
      "source": [
        "Yes. Understanding typical runtime helps in content recommendations, production strategies, and marketing campaigns targeting audience preferences."
      ],
      "metadata": {
        "id": "DW4_bGpfphqN"
      }
    },
    {
      "cell_type": "markdown",
      "source": [
        "# 7. IMDb Score by Genre – Box Plot"
      ],
      "metadata": {
        "id": "PIIx-8_IphqN"
      }
    },
    {
      "cell_type": "code",
      "source": [
        "# Extract top 5 genres for better readability in the box plot\n",
        "top_genres = merged['genres'].str.split(',').explode().str.strip().value_counts().index[:5]\n",
        "filtered_df = merged[merged['genres'].str.contains('|'.join(top_genres), na=False)]\n",
        "\n",
        "plt.figure(figsize=(12, 6))\n",
        "sns.boxplot(data=filtered_df, x=\"genres\", y=\"imdb_score\", palette=\"Set3\")\n",
        "plt.xticks(rotation=45)\n",
        "plt.xlabel(\"Genres\")\n",
        "plt.ylabel(\"IMDb Score\")\n",
        "plt.title(\"Distribution of IMDb Ratings Across Top Genres\")\n",
        "plt.show()\n"
      ],
      "metadata": {
        "id": "lqAIGUfyphqO"
      },
      "execution_count": null,
      "outputs": []
    },
    {
      "cell_type": "markdown",
      "source": [
        "##### 1. Why did you pick the specific chart?"
      ],
      "metadata": {
        "id": "t27r6nlMphqO"
      }
    },
    {
      "cell_type": "markdown",
      "source": [
        "Box plots are excellent for comparing distributions across categories. They succinctly show the median, quartiles, and potential outliers."
      ],
      "metadata": {
        "id": "iv6ro40sphqO"
      }
    },
    {
      "cell_type": "markdown",
      "source": [
        "##### 2. What is/are the insight(s) found from the chart?"
      ],
      "metadata": {
        "id": "r2jJGEOYphqO"
      }
    },
    {
      "cell_type": "markdown",
      "source": [
        "The chart reveals how IMDb scores vary within different genres. You can identify which genres have a higher median score or wider variation in ratings."
      ],
      "metadata": {
        "id": "Po6ZPi4hphqO"
      }
    },
    {
      "cell_type": "markdown",
      "source": [
        "##### 3. Will the gained insights help creating a positive business impact?\n",
        "Are there any insights that lead to negative growth? Justify with specific reason."
      ],
      "metadata": {
        "id": "b0JNsNcRphqO"
      }
    },
    {
      "cell_type": "markdown",
      "source": [
        "Yes. These insights can influence content acquisition and production by highlighting genres that consistently perform well, thereby directing focus and resources toward quality content."
      ],
      "metadata": {
        "id": "xvSq8iUTphqO"
      }
    },
    {
      "cell_type": "markdown",
      "source": [
        "# 8. Number of Titles Per Age Rating – Bar Chart"
      ],
      "metadata": {
        "id": "BZR9WyysphqO"
      }
    },
    {
      "cell_type": "code",
      "source": [
        "plt.figure(figsize=(8, 5))\n",
        "sns.countplot(data=merged, x=\"age_certification\", order=merged['age_certification'].value_counts().index, palette=\"coolwarm\")\n",
        "plt.xlabel(\"Age Rating\")\n",
        "plt.ylabel(\"Number of Titles\")\n",
        "plt.title(\"Content Distribution by Age Rating\")\n",
        "plt.show()\n",
        "\n"
      ],
      "metadata": {
        "id": "TdPTWpAVphqO"
      },
      "execution_count": null,
      "outputs": []
    },
    {
      "cell_type": "markdown",
      "source": [
        "##### 1. Why did you pick the specific chart?"
      ],
      "metadata": {
        "id": "jj7wYXLtphqO"
      }
    },
    {
      "cell_type": "markdown",
      "source": [
        "A bar chart is the best way to compare different categories. Here, it shows how many movies and shows fall into each age rating category (e.g., PG, R, 18+, etc.)."
      ],
      "metadata": {
        "id": "Ob8u6rCTphqO"
      }
    },
    {
      "cell_type": "markdown",
      "source": [
        "##### 2. What is/are the insight(s) found from the chart?"
      ],
      "metadata": {
        "id": "eZrbJ2SmphqO"
      }
    },
    {
      "cell_type": "markdown",
      "source": [
        "This chart helps answer questions like:\n",
        "\n",
        "Does Amazon Prime cater more to family-friendly content (G, PG, PG-13) or mature audiences (R, 18+)?\n",
        "\n",
        "Are certain age groups underserved?"
      ],
      "metadata": {
        "id": "mZtgC_hjphqO"
      }
    },
    {
      "cell_type": "markdown",
      "source": [
        "##### 3. Will the gained insights help creating a positive business impact?\n",
        "Are there any insights that lead to negative growth? Justify with specific reason."
      ],
      "metadata": {
        "id": "rFu4xreNphqO"
      }
    },
    {
      "cell_type": "markdown",
      "source": [
        "Yes. If there’s a gap in certain audience segments, Amazon Prime can invest in content acquisition or original productions to fill that void and improve subscriber retention."
      ],
      "metadata": {
        "id": "ey_0qi68phqO"
      }
    },
    {
      "cell_type": "markdown",
      "source": [
        "# Chart - 9 - Correlation Heatmap"
      ],
      "metadata": {
        "id": "NC_X3p0fY2L0"
      }
    },
    {
      "cell_type": "code",
      "source": [
        "\n",
        "# add numeric_only=True to tell corr() to ignore string values.\n",
        "plt.figure(figsize=(12, 6))\n",
        "sns.heatmap(merged.corr(numeric_only=True), annot=True, cmap=\"coolwarm\", linewidths=0.5)\n",
        "plt.title(\"Correlation Heatmap of Numerical Features\")\n",
        "plt.show()\n"
      ],
      "metadata": {
        "id": "xyC9zolEZNRQ"
      },
      "execution_count": null,
      "outputs": []
    },
    {
      "cell_type": "markdown",
      "source": [
        "##### 1. Why did you pick the specific chart?"
      ],
      "metadata": {
        "id": "UV0SzAkaZNRQ"
      }
    },
    {
      "cell_type": "markdown",
      "source": [
        "A heatmap is the best way to visualize correlations between numerical variables, revealing positive or negative relationships.\n"
      ],
      "metadata": {
        "id": "DVPuT8LYZNRQ"
      }
    },
    {
      "cell_type": "markdown",
      "source": [
        "##### 2. What is/are the insight(s) found from the chart?"
      ],
      "metadata": {
        "id": "YPEH6qLeZNRQ"
      }
    },
    {
      "cell_type": "markdown",
      "source": [
        "\n",
        "*  It may show that IMDb rating correlates with runtime, meaning longer movies tend to have higher/lower ratings.\n",
        "\n",
        "*   It could reveal whether release year impacts popularity or IMDb scores.\n",
        "\n",
        "\n",
        "\n",
        "\n"
      ],
      "metadata": {
        "id": "bfSqtnDqZNRR"
      }
    },
    {
      "cell_type": "markdown",
      "source": [
        "# Chart - 10 - Pair Plot"
      ],
      "metadata": {
        "id": "q29F0dvdveiT"
      }
    },
    {
      "cell_type": "code",
      "source": [
        "sns.pairplot(merged[['imdb_score', 'runtime', 'release_year', 'tmdb_popularity']], palette=\"husl\")\n",
        "plt.show()\n",
        "\n"
      ],
      "metadata": {
        "id": "o58-TEIhveiU"
      },
      "execution_count": null,
      "outputs": []
    },
    {
      "cell_type": "markdown",
      "source": [
        "##### 1. Why did you pick the specific chart?"
      ],
      "metadata": {
        "id": "EXh0U9oCveiU"
      }
    },
    {
      "cell_type": "markdown",
      "source": [
        "A pairplot allows us to visualize pairwise relationships and distributions between multiple variables simultaneously.\n"
      ],
      "metadata": {
        "id": "eMmPjTByveiU"
      }
    },
    {
      "cell_type": "markdown",
      "source": [
        "##### 2. What is/are the insight(s) found from the chart?"
      ],
      "metadata": {
        "id": "22aHeOlLveiV"
      }
    },
    {
      "cell_type": "markdown",
      "source": [
        "We can see if higher IMDb ratings correspond to longer runtimes.\n",
        "\n",
        "It can also reveal trends between release year and IMDb scores/popularity."
      ],
      "metadata": {
        "id": "uPQ8RGwHveiV"
      }
    },
    {
      "cell_type": "markdown",
      "source": [
        "## **5. Solution to Business Objective**"
      ],
      "metadata": {
        "id": "JcMwzZxoAimU"
      }
    },
    {
      "cell_type": "markdown",
      "source": [
        "#### What do you suggest the client to achieve Business Objective ?\n",
        "Explain Briefly."
      ],
      "metadata": {
        "id": "8G2x9gOozGDZ"
      }
    },
    {
      "cell_type": "markdown",
      "source": [
        "Based on the analysis and insights gained from the dataset, I suggest the following strategies for Amazon Prime Video to achieve its business objectives effectively:\n",
        "\n",
        "**1. Enhancing Content Diversity**\n",
        "\n",
        "Invest in underrepresented genres and regional content to attract diverse audiences.\n",
        "\n",
        "Analyze genre popularity trends for strategic content acquisition.\n",
        "\n",
        "**2. Optimizing Regional Availability**\n",
        "\n",
        "Expand licensing agreements to improve content accessibility across regions.\n",
        "\n",
        "Localize content and acquire region-specific movies and shows.\n",
        "\n",
        "**3. Leveraging Trends Over Time**\n",
        "\n",
        "Maintain steady content acquisition and monitor high-performing release years.\n",
        "\n",
        "Track competitor trends to refine content strategy.\n",
        "\n",
        "**4. Boosting IMDb Ratings & Popularity**\n",
        "\n",
        "Promote top-rated content through AI-driven recommendations and marketing.\n",
        "\n",
        "Invest in high-quality originals and collaborate with influencers for better visibility."
      ],
      "metadata": {
        "id": "pASKb0qOza21"
      }
    },
    {
      "cell_type": "markdown",
      "source": [
        "# **Conclusion**"
      ],
      "metadata": {
        "id": "gCX9965dhzqZ"
      }
    },
    {
      "cell_type": "markdown",
      "source": [
        "This project provided valuable insights into Amazon Prime Video’s content library by analyzing genre diversity, regional availability, trends over time, and IMDb ratings. Through data cleaning, visualization, and exploratory analysis, we identified key patterns that can help optimize content strategy, enhance user engagement, and drive business growth. Implementing data-driven decisions, such as acquiring trending genres, expanding regional availability, and leveraging top-rated content, will strengthen Amazon Prime Video’s market position and improve subscriber retention."
      ],
      "metadata": {
        "id": "Fjb1IsQkh3yE"
      }
    }
  ]
}